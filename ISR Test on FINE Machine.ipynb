{
 "cells": [
  {
   "cell_type": "code",
   "execution_count": 17,
   "id": "f7d7b299",
   "metadata": {},
   "outputs": [],
   "source": [
    "import numpy as np\n",
    "from PIL import Image\n",
    "import cv2\n",
    "\n",
    "img = cv2.imread('GOES-B-True.jpg')\n",
    "lr_img = np.array(img)"
   ]
  },
  {
   "cell_type": "code",
   "execution_count": 18,
   "id": "f3ea4cb6",
   "metadata": {},
   "outputs": [
    {
     "name": "stdout",
     "output_type": "stream",
     "text": [
      "1/1 [==============================] - 1s 1s/step\n"
     ]
    }
   ],
   "source": [
    "from ISR.models import RRDN\n",
    "import PIL\n",
    "\n",
    "rrdn = RRDN(weights='gans')\n",
    "sr_img = rrdn.predict(lr_img)\n",
    "img = Image.fromarray(sr_img)\n",
    "img.save(\"GOES-B-True ISR.jpg\")\n"
   ]
  },
  {
   "cell_type": "code",
   "execution_count": null,
   "id": "c00175f7",
   "metadata": {},
   "outputs": [],
   "source": []
  }
 ],
 "metadata": {
  "kernelspec": {
   "display_name": "Wildfire",
   "language": "python",
   "name": "wildfire"
  },
  "language_info": {
   "codemirror_mode": {
    "name": "ipython",
    "version": 3
   },
   "file_extension": ".py",
   "mimetype": "text/x-python",
   "name": "python",
   "nbconvert_exporter": "python",
   "pygments_lexer": "ipython3",
   "version": "3.10.5"
  }
 },
 "nbformat": 4,
 "nbformat_minor": 5
}
