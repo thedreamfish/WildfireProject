{
 "cells": [
  {
   "cell_type": "markdown",
   "id": "d3a92659",
   "metadata": {},
   "source": [
    "# Purpose of this notebook is to figure out where and why ESRGAN isn't working like we want it to. Where is it broken?"
   ]
  },
  {
   "cell_type": "code",
   "execution_count": 1,
   "id": "4e28b9af",
   "metadata": {},
   "outputs": [],
   "source": [
    "import cv2\n",
    "from PIL import Image,ImageFilter \n",
    "\n",
    "import matplotlib.pyplot as plt\n",
    "from matplotlib import cm\n",
    "from matplotlib.gridspec import GridSpec\n",
    "\n",
    "import numpy as np\n",
    "from skimage.metrics import structural_similarity as ssim \n",
    "\n",
    "import math\n",
    "import statistics\n",
    "import os"
   ]
  },
  {
   "cell_type": "code",
   "execution_count": 2,
   "id": "73d55966",
   "metadata": {},
   "outputs": [
    {
     "name": "stdout",
     "output_type": "stream",
     "text": [
      "/home/jupyter-jjacob001/ESRGAN\n",
      "/home/jupyter-jjacob001\n",
      "/home/jupyter-jjacob001\r\n"
     ]
    }
   ],
   "source": [
    "%cd .. \n",
    "%cd .. "
   ]
  },
  {
   "cell_type": "code",
   "execution_count": 4,
   "id": "ca440f7c",
   "metadata": {},
   "outputs": [],
   "source": [
    "#image B of GOES\n",
    "original_B = cv2.imread('GOES-B/GOES-B Screenshot.png')\n",
    "BI_B = cv2.imread('GOES-B/GOES-B BI.jpg')\n",
    "ESRGAN_B = cv2.imread('GOES-B/GOES-B Screenshot_rlt.png')"
   ]
  },
  {
   "cell_type": "code",
   "execution_count": null,
   "id": "6391ab20",
   "metadata": {},
   "outputs": [],
   "source": []
  }
 ],
 "metadata": {
  "kernelspec": {
   "display_name": "Wildfire",
   "language": "python",
   "name": "wildfire"
  },
  "language_info": {
   "codemirror_mode": {
    "name": "ipython",
    "version": 3
   },
   "file_extension": ".py",
   "mimetype": "text/x-python",
   "name": "python",
   "nbconvert_exporter": "python",
   "pygments_lexer": "ipython3",
   "version": "3.10.5"
  }
 },
 "nbformat": 4,
 "nbformat_minor": 5
}
