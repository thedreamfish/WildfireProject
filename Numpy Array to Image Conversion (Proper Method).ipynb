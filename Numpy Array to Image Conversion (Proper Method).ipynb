{
 "cells": [
  {
   "cell_type": "code",
   "execution_count": 3,
   "id": "6830cec0",
   "metadata": {},
   "outputs": [],
   "source": [
    "import numpy as np\n",
    "from matplotlib import pyplot as plt\n",
    "from scipy.ndimage import gaussian_filter\n",
    "import skimage\n",
    "%matplotlib inline"
   ]
  },
  {
   "cell_type": "code",
   "execution_count": 5,
   "id": "8d4cfae0",
   "metadata": {},
   "outputs": [],
   "source": [
    "imY = np.repeat(np.arange(9),9, axis=0).reshape(9,9)\n",
    "ymean = imY.mean()\n",
    "imY = (imY-ymean)"
   ]
  },
  {
   "cell_type": "code",
   "execution_count": 6,
   "id": "77d3998b",
   "metadata": {},
   "outputs": [
    {
     "data": {
      "text/plain": [
       "array([[-4., -4., -4., -4., -4., -4., -4., -4., -4.],\n",
       "       [-3., -3., -3., -3., -3., -3., -3., -3., -3.],\n",
       "       [-2., -2., -2., -2., -2., -2., -2., -2., -2.],\n",
       "       [-1., -1., -1., -1., -1., -1., -1., -1., -1.],\n",
       "       [ 0.,  0.,  0.,  0.,  0.,  0.,  0.,  0.,  0.],\n",
       "       [ 1.,  1.,  1.,  1.,  1.,  1.,  1.,  1.,  1.],\n",
       "       [ 2.,  2.,  2.,  2.,  2.,  2.,  2.,  2.,  2.],\n",
       "       [ 3.,  3.,  3.,  3.,  3.,  3.,  3.,  3.,  3.],\n",
       "       [ 4.,  4.,  4.,  4.,  4.,  4.,  4.,  4.,  4.]])"
      ]
     },
     "execution_count": 6,
     "metadata": {},
     "output_type": "execute_result"
    }
   ],
   "source": [
    "imY"
   ]
  },
  {
   "cell_type": "code",
   "execution_count": 7,
   "id": "d5663cda",
   "metadata": {},
   "outputs": [
    {
     "data": {
      "text/plain": [
       "array([[-4., -3., -2., -1.,  0.,  1.,  2.,  3.,  4.],\n",
       "       [-4., -3., -2., -1.,  0.,  1.,  2.,  3.,  4.],\n",
       "       [-4., -3., -2., -1.,  0.,  1.,  2.,  3.,  4.],\n",
       "       [-4., -3., -2., -1.,  0.,  1.,  2.,  3.,  4.],\n",
       "       [-4., -3., -2., -1.,  0.,  1.,  2.,  3.,  4.],\n",
       "       [-4., -3., -2., -1.,  0.,  1.,  2.,  3.,  4.],\n",
       "       [-4., -3., -2., -1.,  0.,  1.,  2.,  3.,  4.],\n",
       "       [-4., -3., -2., -1.,  0.,  1.,  2.,  3.,  4.],\n",
       "       [-4., -3., -2., -1.,  0.,  1.,  2.,  3.,  4.]])"
      ]
     },
     "execution_count": 7,
     "metadata": {},
     "output_type": "execute_result"
    }
   ],
   "source": [
    "imX = imY.T\n",
    "imX"
   ]
  },
  {
   "cell_type": "code",
   "execution_count": 8,
   "id": "aab255de",
   "metadata": {},
   "outputs": [
    {
     "data": {
      "text/plain": [
       "array([[32., 25., 20., 17., 16., 17., 20., 25., 32.],\n",
       "       [25., 18., 13., 10.,  9., 10., 13., 18., 25.],\n",
       "       [20., 13.,  8.,  5.,  4.,  5.,  8., 13., 20.],\n",
       "       [17., 10.,  5.,  2.,  1.,  2.,  5., 10., 17.],\n",
       "       [16.,  9.,  4.,  1.,  0.,  1.,  4.,  9., 16.],\n",
       "       [17., 10.,  5.,  2.,  1.,  2.,  5., 10., 17.],\n",
       "       [20., 13.,  8.,  5.,  4.,  5.,  8., 13., 20.],\n",
       "       [25., 18., 13., 10.,  9., 10., 13., 18., 25.],\n",
       "       [32., 25., 20., 17., 16., 17., 20., 25., 32.]])"
      ]
     },
     "execution_count": 8,
     "metadata": {},
     "output_type": "execute_result"
    }
   ],
   "source": [
    "sqr = imY**2+imX**2\n",
    "sqr"
   ]
  },
  {
   "cell_type": "code",
   "execution_count": 9,
   "id": "5f25cce7",
   "metadata": {},
   "outputs": [],
   "source": [
    "imG  = np.exp(-sqr/4)"
   ]
  },
  {
   "cell_type": "code",
   "execution_count": 10,
   "id": "4def0db6",
   "metadata": {},
   "outputs": [
    {
     "data": {
      "text/plain": [
       "<matplotlib.image.AxesImage at 0x7fcaf44b9450>"
      ]
     },
     "execution_count": 10,
     "metadata": {},
     "output_type": "execute_result"
    },
    {
     "data": {
      "image/png": "[encoded data removed]",
      "text/plain": [
       "<Figure size 432x288 with 1 Axes>"
      ]
     },
     "metadata": {
      "needs_background": "light"
     },
     "output_type": "display_data"
    }
   ],
   "source": [
    "plt.imshow(imG)"
   ]
  },
  {
   "cell_type": "code",
   "execution_count": 18,
   "id": "599176a2",
   "metadata": {},
   "outputs": [
    {
     "data": {
      "text/plain": [
       "<matplotlib.image.AxesImage at 0x7fcaf4108730>"
      ]
     },
     "execution_count": 18,
     "metadata": {},
     "output_type": "execute_result"
    },
    {
     "data": {
      "image/png": "[encoded data removed]",
      "text/plain": [
       "<Figure size 432x288 with 1 Axes>"
      ]
     },
     "metadata": {
      "needs_background": "light"
     },
     "output_type": "display_data"
    }
   ],
   "source": [
    "imY = np.repeat(np.arange(64),64, axis=0).reshape(64,64)\n",
    "imY = (imY-imY.mean())\n",
    "imG2  = np.exp(-(imY**2+(imY.T)**2)/256)\n",
    "imG2 = np.array(np.round(255*(imG2-imG2.min())/(imG2.max()-imG2.min())),dtype='uint8')\n",
    "\n",
    "plt.imshow(imG2)"
   ]
  },
  {
   "cell_type": "code",
   "execution_count": 19,
   "id": "675a9ba2",
   "metadata": {},
   "outputs": [],
   "source": [
    "skimage.io.imsave('blob.png', imG2)"
   ]
  },
  {
   "cell_type": "code",
   "execution_count": 25,
   "id": "76ea8aad",
   "metadata": {},
   "outputs": [
    {
     "data": {
      "text/plain": [
       "(64, 64, 1)"
      ]
     },
     "execution_count": 25,
     "metadata": {},
     "output_type": "execute_result"
    }
   ],
   "source": [
    "imG2=imG2.reshape(imG2.shape+(1,))\n",
    "imG2.shape"
   ]
  },
  {
   "cell_type": "code",
   "execution_count": 26,
   "id": "af58ac0a",
   "metadata": {},
   "outputs": [],
   "source": [
    "imG3d=np.repeat(imG2,3,axis=2)"
   ]
  },
  {
   "cell_type": "code",
   "execution_count": 27,
   "id": "06509b48",
   "metadata": {},
   "outputs": [
    {
     "data": {
      "text/plain": [
       "(64, 64, 3)"
      ]
     },
     "execution_count": 27,
     "metadata": {},
     "output_type": "execute_result"
    }
   ],
   "source": [
    "imG3d.shape"
   ]
  },
  {
   "cell_type": "code",
   "execution_count": 28,
   "id": "4e56ef84",
   "metadata": {},
   "outputs": [
    {
     "data": {
      "text/plain": [
       "<matplotlib.image.AxesImage at 0x7fcaf1b3cb20>"
      ]
     },
     "execution_count": 28,
     "metadata": {},
     "output_type": "execute_result"
    },
    {
     "data": {
      "image/png": "[encoded data removed]",
      "text/plain": [
       "<Figure size 432x288 with 1 Axes>"
      ]
     },
     "metadata": {
      "needs_background": "light"
     },
     "output_type": "display_data"
    }
   ],
   "source": [
    "plt.imshow(imG3d)"
   ]
  },
  {
   "cell_type": "code",
   "execution_count": 29,
   "id": "48766a1b",
   "metadata": {},
   "outputs": [],
   "source": [
    "skimage.io.imsave('blobRGB.png', imG3d)"
   ]
  },
  {
   "cell_type": "code",
   "execution_count": 3,
   "id": "697a0f81",
   "metadata": {},
   "outputs": [
    {
     "data": {
      "text/plain": [
       "<matplotlib.image.AxesImage at 0x7f7010150130>"
      ]
     },
     "execution_count": 3,
     "metadata": {},
     "output_type": "execute_result"
    },
    {
     "data": {
      "image/png": "[encoded data removed]",
      "text/plain": [
       "<Figure size 432x288 with 1 Axes>"
      ]
     },
     "metadata": {
      "needs_background": "light"
     },
     "output_type": "display_data"
    }
   ],
   "source": [
    "goes_a = np.load('GOES-A/goes_diff_A.npy')\n",
    "plt.imshow(goes_a)"
   ]
  },
  {
   "cell_type": "code",
   "execution_count": 4,
   "id": "a23de7ea",
   "metadata": {},
   "outputs": [
    {
     "name": "stderr",
     "output_type": "stream",
     "text": [
      "Lossy conversion from float32 to uint8. Range [1.180450439453125, 24.99554443359375]. Convert image to uint8 prior to saving to suppress this warning.\n"
     ]
    }
   ],
   "source": [
    "skimage.io.imsave('GOES-A-True.png', goes_a)"
   ]
  },
  {
   "cell_type": "code",
   "execution_count": 4,
   "id": "3eb2d600",
   "metadata": {},
   "outputs": [
    {
     "data": {
      "text/plain": [
       "<matplotlib.image.AxesImage at 0x7f6570f30640>"
      ]
     },
     "execution_count": 4,
     "metadata": {},
     "output_type": "execute_result"
    },
    {
     "data": {
      "image/png": "[encoded data removed]",
      "text/plain": [
       "<Figure size 432x288 with 1 Axes>"
      ]
     },
     "metadata": {
      "needs_background": "light"
     },
     "output_type": "display_data"
    }
   ],
   "source": [
    "goes_b = np.load('Images/GOES-B/goes_diff_B.npy')\n",
    "plt.imshow(goes_b)"
   ]
  },
  {
   "cell_type": "code",
   "execution_count": 6,
   "id": "b7c04878",
   "metadata": {},
   "outputs": [
    {
     "name": "stderr",
     "output_type": "stream",
     "text": [
      "Lossy conversion from float32 to uint8. Range [1.552764892578125, 78.76263427734375]. Convert image to uint8 prior to saving to suppress this warning.\n"
     ]
    }
   ],
   "source": [
    "skimage.io.imsave('GOES-B-True.png', goes_b)"
   ]
  },
  {
   "cell_type": "code",
   "execution_count": 5,
   "id": "655c8151",
   "metadata": {},
   "outputs": [
    {
     "data": {
      "text/plain": [
       "(13, 26)"
      ]
     },
     "execution_count": 5,
     "metadata": {},
     "output_type": "execute_result"
    }
   ],
   "source": [
    "goes_b.shape"
   ]
  },
  {
   "cell_type": "code",
   "execution_count": null,
   "id": "e3a2f8a4",
   "metadata": {},
   "outputs": [],
   "source": []
  }
 ],
 "metadata": {
  "kernelspec": {
   "display_name": "Wildfire",
   "language": "python",
   "name": "wildfire"
  },
  "language_info": {
   "codemirror_mode": {
    "name": "ipython",
    "version": 3
   },
   "file_extension": ".py",
   "mimetype": "text/x-python",
   "name": "python",
   "nbconvert_exporter": "python",
   "pygments_lexer": "ipython3",
   "version": "3.10.5"
  }
 },
 "nbformat": 4,
 "nbformat_minor": 5
}
